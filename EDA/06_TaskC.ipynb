{
 "cells": [
  {
   "cell_type": "code",
   "execution_count": 1,
   "metadata": {},
   "outputs": [],
   "source": [
    "from packages import *"
   ]
  },
  {
   "cell_type": "code",
   "execution_count": 2,
   "metadata": {},
   "outputs": [],
   "source": [
    "data_path = '../DATA/C/'\n",
    "file_path = lambda x: data_path + 'C_'+ x + '_쪼갬.csv'\n",
    "names = ['가장넓은면', '두번째로넓은면', '좁은면']\n",
    "side_a = 4.05; side_b = 12.8; side_c = 14.7 # mm\n",
    "sides = [side_b * side_c, side_a * side_c, side_a * side_b]\n",
    "COLUMNS = ['거리(cm)', '홀전압(mV)']\n",
    "def get_data(idx):\n",
    "  data = pd.read_csv(file_path(names[idx]))\n",
    "  dist = data[COLUMNS[0]]; volt = data[COLUMNS[1]]\n",
    "  dist = dist * 10 # mm\n",
    "  mag = volt * 50 / 45 # 50mT / 45mV\n",
    "  return dist, mag"
   ]
  },
  {
   "cell_type": "code",
   "execution_count": 3,
   "metadata": {},
   "outputs": [
    {
     "data": {
      "text/plain": [
       "tensor([0.0003])"
      ]
     },
     "execution_count": 3,
     "metadata": {},
     "output_type": "execute_result"
    }
   ],
   "source": [
    "def Magnetic_Field(dist, sides=(side_b, side_c, side_a), shift=0):\n",
    "  if type(dist) != th.Tensor:\n",
    "    dist = th.tensor([dist])\n",
    "  dist = dist + shift\n",
    "  w, h, thickness = sides; n = 100\n",
    "  eps = 1e-6\n",
    "  x = th.linspace(-w/2, w/2, n); y = th.linspace(-h/2, h/2, n); z = th.linspace(0, thickness, n)\n",
    "  mu = 1.0\n",
    "  zprime = z[:, None]+dist[None, ...]\n",
    "  r = (x[:, None, None, None]**2 + y[None, :, None, None]**2 + zprime[None, None, :, ...]**2)**0.5 + eps\n",
    "  cos = zprime[None, None, :, ...] / r\n",
    "  dB = mu / (4 * th.pi * r**3) * (3 * cos**2 - 1)\n",
    "  return dB.sum(axis=(0, 1, 2)) / n**3\n",
    "Magnetic_Field(1)"
   ]
  },
  {
   "cell_type": "code",
   "execution_count": 34,
   "metadata": {},
   "outputs": [
    {
     "name": "stderr",
     "output_type": "stream",
     "text": [
      "/var/folders/nt/v94rk70j2kd3xsql3g__bt3r0000gn/T/ipykernel_17991/2996904365.py:16: UserWarning: To copy construct from a tensor, it is recommended to use sourceTensor.clone().detach() or sourceTensor.clone().detach().requires_grad_(True), rather than torch.tensor(sourceTensor).\n",
      "  data = th.tensor(y[:, 0]); param = th.tensor(x)\n"
     ]
    }
   ],
   "source": [
    "dist, mag = get_data(0)\n",
    "x = dist.unique()\n",
    "y = np.zeros((len(x), 2))\n",
    "for i in range(len(x)):\n",
    "  y[i] = mag[dist == x[i]].agg(['mean', 'std'])\n",
    "x = th.tensor(x); y = th.tensor(y)\n",
    "base = y[-1, 0]\n",
    "y[:, 0] -= base\n",
    "# x = x[:-1]; y = y[:-1, :]\n",
    "\n",
    "# magnetic = np.array([Magnetic_Field(k) for k in x])\n",
    "\n",
    "func = lambda x, a, b, c: a * Magnetic_Field(x, shift=c) + b\n",
    "# func = lambda x, a, b, c: a / (x-c) + b\n",
    "# popt, pcov = scipy.optimize.curve_fit(func, x, y[:,0])\n",
    "data = th.tensor(y[:, 0]); param = th.tensor(x)\n",
    "a0, b0, c0 = [th.tensor([1.0], requires_grad=True) for _ in range(3)]\n",
    "optimizer = th.optim.Adam([a0, b0, c0], lr=1e-1)\n",
    "divider = th.sum((data - th.mean(data))**2)\n"
   ]
  },
  {
   "cell_type": "code",
   "execution_count": 36,
   "metadata": {},
   "outputs": [
    {
     "name": "stdout",
     "output_type": "stream",
     "text": [
      "Epoch 0 Loss 7.752504307204083 R2 0.8131871748508873\n",
      "a: 17791.052734375 b: 1.661374568939209 c: -2.4231526851654053\n",
      "Epoch 10 Loss 7.039948010767443 R2 0.8303577109177191\n",
      "a: 18422.4765625 b: 1.659200668334961 c: -2.055783271789551\n",
      "Epoch 20 Loss 7.112346139630383 R2 0.828613126399936\n",
      "a: 19148.87890625 b: 1.595850944519043 c: -1.9321600198745728\n",
      "Epoch 30 Loss 7.129678231691114 R2 0.828195473348057\n",
      "a: 18627.302734375 b: 1.6518161296844482 c: -1.8975366353988647\n",
      "Epoch 40 Loss 7.122457881776796 R2 0.8283694627987697\n",
      "a: 19113.39453125 b: 1.613242745399475 c: -1.9011316299438477\n",
      "Epoch 50 Loss 7.108424681384921 R2 0.8287076221479562\n",
      "a: 18869.298828125 b: 1.6352660655975342 c: -1.9202669858932495\n",
      "Epoch 60 Loss 7.091704984776384 R2 0.8291105182490489\n",
      "a: 18788.88671875 b: 1.6324756145477295 c: -1.947413444519043\n",
      "Epoch 70 Loss 7.072287871160805 R2 0.8295784142613604\n",
      "a: 18756.767578125 b: 1.6198387145996094 c: -1.979177474975586\n",
      "Epoch 80 Loss 7.051286827752746 R2 0.8300844783787956\n",
      "a: 18630.3203125 b: 1.6210453510284424 c: -2.014153242111206\n",
      "Epoch 90 Loss 7.028377140223568 R2 0.8306365352730604\n",
      "a: 18547.267578125 b: 1.6239287853240967 c: -2.0519697666168213\n"
     ]
    },
    {
     "data": {
      "image/png": "[encoded data removed]",
      "text/plain": [
       "<Figure size 640x480 with 1 Axes>"
      ]
     },
     "metadata": {},
     "output_type": "display_data"
    }
   ],
   "source": [
    "\n",
    "for epoch, _ in enumerate(range(100)):\n",
    "  optimizer.zero_grad()\n",
    "  a = 19000.0 * a0; b = 1.8 * b0; c = -1.3 * c0\n",
    "  loss = th.sum((data - func(param, a, b, c))**2)\n",
    "  loss.backward()\n",
    "  optimizer.step()\n",
    "  if loss.item() < 1e-5:\n",
    "    break\n",
    "  if epoch % 10 == 0:\n",
    "    R2 = 1 - loss.item() / divider\n",
    "    print(f'Epoch {epoch} Loss {loss.item()} R2 {R2}')\n",
    "    print(f'a: {a.item()} b: {b.item()} c: {c.item()}')\n",
    "\n",
    "popt = [a.item(), b.item(), c.item()]\n",
    "\n",
    "with th.no_grad():\n",
    "  R2 = 1 - th.sum((y[:, 0] - func(x, *popt))**2) / th.sum((y[:,0] - th.mean(y[:,0]))**2)\n",
    "  plt.errorbar(x, y[:, 0], xerr=1.5, yerr=y[:, 1], fmt='o', ms=5, \n",
    "              color='black', label=f'Experiment')\n",
    "  plt.text(75, 6.5, f'$R^2$ = {R2:.4f}\\n $\\mu_B$ = {popt[0]:.2f} mT')\n",
    "  plt.plot(th.linspace(x[0], 100, 100), func(th.linspace(x[0], 100, 100), *popt), 'r--', label='Fitting')\n",
    "  plt.xlabel('Distance (mm)'); plt.ylabel('Magnetic Field (mT)')\n",
    "  plt.legend(loc='lower left')"
   ]
  },
  {
   "cell_type": "code",
   "execution_count": 132,
   "metadata": {},
   "outputs": [
    {
     "data": {
      "text/plain": [
       "array(1)"
      ]
     },
     "execution_count": 132,
     "metadata": {},
     "output_type": "execute_result"
    }
   ],
   "source": [
    "np.array(1)"
   ]
  },
  {
   "cell_type": "code",
   "execution_count": 122,
   "metadata": {},
   "outputs": [
    {
     "data": {
      "text/plain": [
       "[216.73579204575435,\n",
       " 138.4524594687912,\n",
       " 54.47430980408659,\n",
       " 24.375283754539808,\n",
       " 12.52804068459368,\n",
       " 4.454184480777427,\n",
       " 2.0408256659808566,\n",
       " 1.094139634320821,\n",
       " 0.6518541136967388,\n",
       " 0.4187479579689279,\n",
       " 0.28460697411859326,\n",
       " 0.20208451104048178,\n",
       " 0.14858409431681838]"
      ]
     },
     "execution_count": 122,
     "metadata": {},
     "output_type": "execute_result"
    }
   ],
   "source": [
    "magnetic"
   ]
  },
  {
   "cell_type": "code",
   "execution_count": 75,
   "metadata": {},
   "outputs": [
    {
     "data": {
      "text/plain": [
       "0.9297793850495084"
      ]
     },
     "execution_count": 75,
     "metadata": {},
     "output_type": "execute_result"
    }
   ],
   "source": [
    "R2"
   ]
  },
  {
   "cell_type": "code",
   "execution_count": null,
   "metadata": {},
   "outputs": [],
   "source": []
  }
 ],
 "metadata": {
  "kernelspec": {
   "display_name": "Python 3",
   "language": "python",
   "name": "python3"
  },
  "language_info": {
   "codemirror_mode": {
    "name": "ipython",
    "version": 3
   },
   "file_extension": ".py",
   "mimetype": "text/x-python",
   "name": "python",
   "nbconvert_exporter": "python",
   "pygments_lexer": "ipython3",
   "version": "3.10.13"
  }
 },
 "nbformat": 4,
 "nbformat_minor": 2
}
