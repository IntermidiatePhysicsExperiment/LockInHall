{
 "cells": [
  {
   "cell_type": "code",
   "execution_count": 1,
   "metadata": {},
   "outputs": [],
   "source": [
    "from packages import *"
   ]
  },
  {
   "cell_type": "code",
   "execution_count": null,
   "metadata": {},
   "outputs": [],
   "source": [
    "data_path = \"../DATA/A-2/\"\n",
    "output_path = \"outputs/A-2/\"\n",
    "filename = lambda gain: f\"{data_path}A-1_gain{gain}_100mV.csv\"\n",
    "getrawdata = lambda gain: pd.read_csv(filename(gain))\n",
    "COLUMN_NAMES = ['frequency [Hz]', 'output p-p [V]', 'input p-p [V]', 'Gain (o/i)']\n",
    "MILIVOLT_NAMES = ['output p-p [mV]', 'input p-p [mV]']\n",
    "\n",
    "def get_data(gain):\n",
    "  # freq, output, input, gain = getrawdata(gain)\n",
    "  data = getrawdata(gain)\n",
    "  data.drop(columns=[\"Gain (o/i)\"], inplace=True)\n",
    "\n",
    "  freq = data['frequency [Hz]']\n",
    "\n",
    "  if MILIVOLT_NAMES[0] in data.columns:\n",
    "    output = data[MILIVOLT_NAMES[0]] / 1000\n",
    "    input = data[MILIVOLT_NAMES[1]] / 1000\n",
    "  \n",
    "  else:\n",
    "    output = data[COLUMN_NAMES[1]]\n",
    "    input = data[COLUMN_NAMES[2]]\n",
    "\n",
    "  return freq, output, input"
   ]
  },
  {
   "cell_type": "code",
   "execution_count": null,
   "metadata": {},
   "outputs": [],
   "source": [
    "xrange = (1e2, 1e6)\n",
    "yrange = (-20, 20)\n",
    "save = False\n",
    "\n",
    "xmin, xmax = xrange; ymin, ymax = yrange\n",
    "\n",
    "plt.errorbar(x, y[:, 0], yerr=y[:, 1], fmt='o', ms=5, \n",
    "            color='black', label=f'gain: {np.power(10, gain_true/10):.1f}',\n",
    "            capsize=5, capthick=1)\n",
    "\n",
    "plt.plot([xmin, xmax], [gain_true, gain_true], '--', label='True gain', color='black')\n",
    "plt.plot([x_intercept, x_intersection], [y_intercept, y_intersection], \n",
    "        'r--', label='Linear fit')\n",
    "plt.plot([x_goal, x_goal], [y_intercept, y_goal], 'g--', label='3 dB frequency')\n",
    "xpoint = lambda ratio: 10 ** (np.log10(xmin) * (1 - ratio) + np.log10(xmax) * ratio)\n",
    "ypoint = lambda ratio: ymin * (1 - ratio) + ymax * ratio\n",
    "plt.text(xpoint(0.05), ypoint(0.9), f'$f = {x_goal/1000:.1f}$ kHz')\n",
    "plt.text(xpoint(0.05), ypoint(0.85), f'$R^2 = {R2:.3f}$')\n",
    "\n",
    "plt.legend(loc='lower left')\n",
    "plt.xscale(\"log\")\n",
    "plt.xlim(xmin, xmax)\n",
    "plt.ylim(ymin, ymax)\n",
    "plt.xlabel(\"Frequency [Hz]\")\n",
    "plt.ylabel(\"Gain [dB]\")\n",
    "plt.title(f\"Gain vs Frequency for Gain {123:.0f}\")\n",
    "if save: plt.savefig(f\"{output_path}gain{123:.0f}.png\")\n",
    "plt.show()"
   ]
  }
 ],
 "metadata": {
  "kernelspec": {
   "display_name": "Python 3",
   "language": "python",
   "name": "python3"
  },
  "language_info": {
   "codemirror_mode": {
    "name": "ipython",
    "version": 3
   },
   "file_extension": ".py",
   "mimetype": "text/x-python",
   "name": "python",
   "nbconvert_exporter": "python",
   "pygments_lexer": "ipython3",
   "version": "3.10.13"
  }
 },
 "nbformat": 4,
 "nbformat_minor": 2
}
